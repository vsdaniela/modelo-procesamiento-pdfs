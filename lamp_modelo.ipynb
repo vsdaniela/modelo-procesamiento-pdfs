{
  "cells": [
    {
      "cell_type": "code",
      "execution_count": null,
      "metadata": {
        "colab": {
          "base_uri": "https://localhost:8080/"
        },
        "id": "u1AOV9doEcgn",
        "outputId": "3d9b92cb-e08d-4872-d71d-a6328caebab2"
      },
      "outputs": [
        {
          "output_type": "stream",
          "name": "stdout",
          "text": [
            "Looking in indexes: https://pypi.org/simple, https://us-python.pkg.dev/colab-wheels/public/simple/\n",
            "Requirement already satisfied: scipy in /usr/local/lib/python3.7/dist-packages (1.7.3)\n",
            "Requirement already satisfied: numpy<1.23.0,>=1.16.5 in /usr/local/lib/python3.7/dist-packages (from scipy) (1.21.6)\n"
          ]
        }
      ],
      "source": [
        "!pip install scipy"
      ]
    },
    {
      "cell_type": "code",
      "execution_count": null,
      "metadata": {
        "id": "31A98-Cu2hZ8"
      },
      "outputs": [],
      "source": [
        "import matplotlib.pyplot as plt\n",
        "import sys\n",
        "import numpy as np\n",
        "from scipy.spatial.distance import cdist\n",
        "from scipy.optimize import minimize\n",
        "from sklearn.utils.extmath import randomized_svd\n",
        "import scipy as sp\n",
        "import scipy.spatial\n",
        "import scipy.spatial.distance as distance\n",
        "import nltk\n",
        "import wordcloud\n",
        "from google.colab import files"
      ]
    },
    {
      "cell_type": "code",
      "source": [
        "from google.colab import drive\n",
        "drive.mount('/content/drive')"
      ],
      "metadata": {
        "id": "oBNahWZjsJ5l",
        "colab": {
          "base_uri": "https://localhost:8080/"
        },
        "outputId": "77ce07a4-5b42-4cd2-fcf2-de59968c7032"
      },
      "execution_count": null,
      "outputs": [
        {
          "output_type": "stream",
          "name": "stdout",
          "text": [
            "Mounted at /content/drive\n"
          ]
        }
      ]
    },
    {
      "cell_type": "code",
      "execution_count": null,
      "metadata": {
        "id": "4xG865xcNCON"
      },
      "outputs": [],
      "source": [
        "from time import time\n",
        "import numpy as np\n",
        "from sklearn import datasets\n",
        "from sklearn.manifold import MDS,TSNE\n",
        "from scipy.stats.mstats import zscore\n",
        "import matplotlib.pyplot as plt\n"
      ]
    },
    {
      "cell_type": "code",
      "execution_count": null,
      "metadata": {
        "colab": {
          "base_uri": "https://localhost:8080/",
          "height": 334
        },
        "id": "N4WBMfdv2V9V",
        "outputId": "f2a6c92c-576f-4804-cba3-6380e75813f4"
      },
      "outputs": [
        {
          "output_type": "stream",
          "name": "stdout",
          "text": [
            "<class 'numpy.ndarray'>\n",
            "center Xdata \n",
            "center Xdata \n",
            " fit funciont \n"
          ]
        },
        {
          "output_type": "display_data",
          "data": {
            "text/plain": [
              "<Figure size 432x288 with 1 Axes>"
            ],
            "image/png": "[encoded data removed]"
          },
          "metadata": {
            "needs_background": "light"
          }
        }
      ],
      "source": [
        "import scipy\n",
        "epsilon = 1e-7\n",
        "class Lamp():\n",
        "    def __init__(self, Xdata = None, control_points = None, weights = None, label=False, scale=True, dim = 2):\n",
        "        #self.Xdata = Xdata\n",
        "        self.data = None\n",
        "        self.mapped = None\n",
        "        self.control_points = control_points\n",
        "        self.control_points_data = None\n",
        "        self.weights = weights\n",
        "        self.dim = dim\n",
        "        self.labels = None\n",
        "        self.label = label\n",
        "        self.scale = scale\n",
        "        self.data_center = None\n",
        "        self.control_points_center = None\n",
        "        self.U = None\n",
        "        self.S = None\n",
        "        self.V = None\n",
        "        #print(self.Xdata)\n",
        "        if Xdata is not None:\n",
        "            print(type(Xdata))\n",
        "            try:\n",
        "                if type(Xdata) is not np.ndarray:\n",
        "                    raise TypeError()\n",
        "\n",
        "                if label is False:\n",
        "                    self.center(Xdata,o_c_s='o')\n",
        "                else:\n",
        "                    self.center(Xdata[:,:-1],o_c_s='o')\n",
        "                    self.labels = Xdata[:,-1].astype(int)\n",
        "\n",
        "            except (AttributeError, TypeError):\n",
        "                print('----- LAMP Error -----')\n",
        "                print('Xdata must be a Numpy Array')\n",
        "                sys.exit()\n",
        "\n",
        "        if control_points is not None:\n",
        "            try:\n",
        "                if type(control_points) is not np.ndarray:\n",
        "                    raise TypeError()\n",
        "\n",
        "            except (AttributeError, TypeError):\n",
        "                print('----- LAMP Error -----')\n",
        "                print('control_points must be a Numpy Array')\n",
        "                sys.exit()\n",
        "\n",
        "            self.center(control_points,o_c_s='c')\n",
        "#########\n",
        "    def fit(self,Xdata=None):\n",
        "        ''' decide if the mapping should be trigger with or without control points'''\n",
        "        print(\" fit funciont \")\n",
        "        if Xdata is not None:\n",
        "            try:\n",
        "                if type(Xdata) is not np.ndarray:\n",
        "                    raise TypeError()\n",
        "                if self.data is not None:\n",
        "                    if self.label is True:\n",
        "                        self.center(Xdata[:,:-1],o_c_s='s')\n",
        "                        self.labels =Xdata[:,-1].astype(int)\n",
        "                    else:\n",
        "                        self.center(Xdata,o_c_s='s')\n",
        "                else:\n",
        "                    if self.label is True:\n",
        "                        self.center(Xdata[:,:-1],o_c_s='o')\n",
        "                        self.labels =Xdata[:,-1].astype(int)\n",
        "                    else:\n",
        "                        self.center(Xdata,o_c_s='o')\n",
        "            except (AttributeError, TypeError):\n",
        "                print('----- LAMP Error -----')\n",
        "                print('Type Error: Xdata must be a Numpy Array')\n",
        "                sys.exit()\n",
        "        else:\n",
        "            try:\n",
        "                if self.data is None:\n",
        "                    raise ValueError()\n",
        "            except ValueError:\n",
        "                print('----- LAMP Error -----')\n",
        "                print('No data to map')\n",
        "                sys.exit()\n",
        "        if self.control_points is not None:\n",
        "            if (self.scale is True) and (self.S is None):\n",
        "                self.scale_control_points()\n",
        "            self.map()\n",
        "            if self.scale is True:\n",
        "                self.unscale()\n",
        "            mapped = self.mapped + self.control_points_center\n",
        "            if self.label is True:\n",
        "                mapped = np.hstack((mapped,self.labels.reshape(self.labels.shape[0],1)))\n",
        "        else:\n",
        "            self.control_points_free_mapping()  # To be implemented soon\n",
        "            mapped = self.mapped\n",
        "        return(mapped)\n",
        "\n",
        "#########\n",
        "    def map(self):\n",
        "        ''' mapping using control points '''\n",
        "        n,k = self.data.shape\n",
        "        m = self.control_points.shape[0]\n",
        "        self.mapped = np.zeros((n,self.dim))\n",
        "        ctp_mapped = self.control_points[:,:-1]\n",
        "        ctp_data = self.control_points_data\n",
        "        if self.weights is None:\n",
        "            self.weights = distance.cdist(self.data,ctp_data)\n",
        "            self.weights = 1.0/(self.weights+epsilon)\n",
        "        for i in range(n):\n",
        "            alpha = np.sum(self.weights[i])\n",
        "            x_tilde = np.dot(ctp_data.T,self.weights[i].T)/alpha\n",
        "            y_tilde = np.dot(ctp_mapped.T,self.weights[i].T)/alpha\n",
        "            x_hat = ctp_data - x_tilde\n",
        "            y_hat = ctp_mapped - y_tilde\n",
        "            D = np.diag(np.sqrt(self.weights[i]))\n",
        "            A = np.dot(D,x_hat)\n",
        "            B = np.dot(D,y_hat)\n",
        "            U,s,V = randomized_svd(np.dot(A.T,B), n_components=2, random_state=None)\n",
        "            M = np.dot(U,V)\n",
        "            self.mapped[i] = np.dot((self.data[i] - x_tilde),M)+y_tilde\n",
        "\n",
        "#########\n",
        "    def center(self,X,o_c_s='o'):\n",
        "        '''o_c_s distriminate between original data (o), control points (c), and streaming data (s)'''\n",
        "        print(\"center Xdata \")\n",
        "        if o_c_s == 'o':\n",
        "            Xmean = np.average(X, axis=0)\n",
        "            self.data_center = Xmean\n",
        "            self.data = np.subtract(X,Xmean)\n",
        "\n",
        "        if o_c_s == 'c':\n",
        "            ctp_ids = X[:,-1].astype(int)\n",
        "            self.control_points_data = self.data[ctp_ids]\n",
        "            Xmean = np.average(X[:,0:2], axis=0)\n",
        "            self.control_points_center = Xmean\n",
        "            centered = np.subtract(X[:,0:2],Xmean)\n",
        "            self.control_points = np.hstack((centered,X[:,-1].reshape(-1,1)))\n",
        "\n",
        "        if o_c_s == 's':\n",
        "            self.data = np.subtract(X,self.data_center)\n",
        "\n",
        "#########\n",
        "    def scale_control_points(self):\n",
        "        ctp_ids = self.control_points[:,-1].astype(int)\n",
        "        ctp_mapped = self.control_points[:,:-1]\n",
        "        ctp_data = self.data[ctp_ids]\n",
        "        Uo,So,Vo = randomized_svd(ctp_data.T, n_components=2, random_state=None)\n",
        "        Uc,Sc,Vc = randomized_svd(ctp_mapped.T, n_components=2, random_state=None)\n",
        "        DSo = np.diag(So)\n",
        "        self.control_points[:,:-1] = np.dot(np.dot(Uc,DSo),Vc).T\n",
        "\n",
        "        self.U = Uc\n",
        "        self.S = np.diag(Sc)\n",
        "        self.So = np.diag(So)\n",
        "        self.V = Vc\n",
        "\n",
        "#########\n",
        "    def unscale(self):\n",
        "        proj = np.dot(self.U.T,self.mapped.T)\n",
        "        Sinv = np.zeros((2,2))\n",
        "        Sinv[0,0] = 1.0/self.So[0,0]\n",
        "        Sinv[1,1] = 1.0/self.So[1,1]\n",
        "        proj_unscaled = np.dot(Sinv,proj)\n",
        "        self.mapped = np.dot(self.U,np.dot(self.S,proj_unscaled)).T\n",
        "\n",
        "#########\n",
        "    def control_points_free_mapping(self):\n",
        "        ''' Mapping without control points '''\n",
        "        def stress(p,pt,d):\n",
        "            cost = 0\n",
        "            for i in range(3):\n",
        "                cost += ((p[0]-pt[i,0])**2+(p[1]-pt[i,1])**2-d[i])**2\n",
        "            return(cost)\n",
        "\n",
        "        max_dist = 1e8\n",
        "        n = self.data.shape[0]\n",
        "        knn = 5\n",
        "        self.mapped = np.zeros((n,self.dim))\n",
        "\n",
        "        D = cdist(self.data,self.data)\n",
        "\n",
        "        # finding the 3 first points that give rise to the inicial triangle\n",
        "\n",
        "        ### starting with the farthest 2 points\n",
        "        idx_flat = np.argmax(D)\n",
        "        idx_i = idx_flat//n\n",
        "        idx_j = idx_flat - n*idx_i\n",
        "\n",
        "        d01 = D[idx_i,idx_j]\n",
        "        d01 += epsilon\n",
        "        D[idx_i,idx_j] = 0\n",
        "        D[idx_j,idx_i] = 0\n",
        "        processed_points = [idx_i,idx_j]\n",
        "\n",
        "        D_processed = D[processed_points]\n",
        "        idx_flat = np.argmax(D_processed)\n",
        "        idx_i = idx_flat//n\n",
        "        idx_j = idx_flat - n*idx_i\n",
        "        d02 = D[processed_points[0],idx_j]**2 + epsilon\n",
        "        d12 = D[processed_points[1],idx_j]**2 + epsilon\n",
        "        D[processed_points,idx_j] = 0\n",
        "        D[idx_j,processed_points] = 0\n",
        "        processed_points.append(idx_j)\n",
        "\n",
        "        # computing the initial triangle\n",
        "        x = (-d12+d02+d01**2)/(2.0*d01)\n",
        "        y = np.sqrt(d02-x**2)\n",
        "        ltemp = [(0,0),(d01,0),(x,y)]\n",
        "        proj_tri = np.asarray(ltemp)\n",
        "        self.mapped[processed_points] = proj_tri[:]\n",
        "\n",
        "\n",
        "        # computing k more initial points\n",
        "        for i in range(3,knn):\n",
        "            D_processed = D[processed_points]\n",
        "            idx_flat = np.argmax(D_processed)\n",
        "            idx_i = idx_flat//n\n",
        "            idx_j = idx_flat - n*idx_i\n",
        "            d = np.asarray([D[processed_points[0],idx_j]**2+epsilon, D[processed_points[1],idx_j]**2+epsilon, D[processed_points[2],idx_j]**2+epsilon])\n",
        "            D[processed_points,idx_j] = 0\n",
        "            D[idx_j,processed_points] = 0\n",
        "            processed_points.append(idx_j)\n",
        "\n",
        "            res = minimize(stress, np.asarray([0,0]),args=(proj_tri,d))\n",
        "            self.mapped[idx_j] = res.x\n",
        "\n",
        "        D = D + max_dist*np.identity(n)\n",
        "        for idx_j in processed_points:\n",
        "            D[processed_points,idx_j] = max_dist\n",
        "            D[idx_j,processed_points] = max_dist\n",
        "\n",
        "        # mapping the data set\n",
        "        weights = np.zeros((knn,))\n",
        "        for i in range(knn,n):\n",
        "            D_processed = D[processed_points]\n",
        "            idx_flat = np.argmin(D_processed)\n",
        "            idx_i = idx_flat//n\n",
        "            idx_j = idx_flat - n*idx_i\n",
        "\n",
        "            neighbors_ids = np.argpartition(D[idx_j,processed_points],knn-1)[:knn]\n",
        "            ctp_ids = [processed_points[j] for j in neighbors_ids]\n",
        "            weights[:] = D[idx_j,ctp_ids]\n",
        "            weights = 1.0/(weights+epsilon)\n",
        "            ctp_data = self.data[ctp_ids]\n",
        "            ctp_mapped = self.mapped[ctp_ids]\n",
        "\n",
        "            alpha = np.sum(weights)\n",
        "            x_tilde = np.dot(ctp_data.T,weights.T)/alpha\n",
        "            y_tilde = np.dot(ctp_mapped.T,weights.T)/alpha\n",
        "            x_hat = ctp_data - x_tilde\n",
        "            y_hat = ctp_mapped - y_tilde\n",
        "            S = np.diag(np.sqrt(weights))\n",
        "            A = np.dot(S,x_hat)\n",
        "            B = np.dot(S,y_hat)\n",
        "            U,s,V = randomized_svd(np.dot(A.T,B), n_components=2, random_state=None)\n",
        "            M = np.dot(U,V)\n",
        "            self.mapped[idx_j] = np.dot((self.data[idx_j] - x_tilde),M)+y_tilde\n",
        "\n",
        "            D[processed_points,idx_j] = max_dist\n",
        "            D[idx_j,processed_points] = max_dist\n",
        "            processed_points.append(idx_j)\n",
        "if __name__ == \"__main__\":\n",
        "\n",
        "    # generating data by drawning points from 2 gaussian in R^20\n",
        "    D = np.random.multivariate_normal(np.zeros((20,)), 0.1*np.identity(20,dtype=float), 500)\n",
        "    D = np.vstack((D,np.random.multivariate_normal(np.ones((20,)), 0.1*np.identity(20,dtype=float), 500)))\n",
        "\n",
        "\n",
        "    #print(D)\n",
        "    # defining control points by projecting orthogonally a random subset of D in R^2\n",
        "    sample_ids = np.random.randint(low=0,high=1000,size=(100,))  # getting 100 random points in D as control points\n",
        "    control_points = D[sample_ids,0:2]                           # coordinates of control points\n",
        "    control_points = np.hstack((control_points,sample_ids.reshape(-1,1)))  # including ids of original points as the last column of control_points\n",
        "    lamp = Lamp(Xdata=D,control_points=control_points)\n",
        "    proj = lamp.fit()\n",
        "    plt.scatter(proj[:,0],proj[:,1])\n",
        "    plt.scatter(control_points[:,0],control_points[:,1],c='r',s=2)\n",
        "    plt.show()"
      ]
    },
    {
      "cell_type": "code",
      "source": [
        "#procesamiento ....\n",
        "!pip install -U spacy\n",
        "!python -m spacy download es"
      ],
      "metadata": {
        "colab": {
          "base_uri": "https://localhost:8080/"
        },
        "id": "0ck1ysA0wHCR",
        "outputId": "8254dd32-e782-49df-9718-5f66ece3bd1b"
      },
      "execution_count": null,
      "outputs": [
        {
          "output_type": "stream",
          "name": "stdout",
          "text": [
            "Looking in indexes: https://pypi.org/simple, https://us-python.pkg.dev/colab-wheels/public/simple/\n",
            "Requirement already satisfied: spacy in /usr/local/lib/python3.7/dist-packages (3.4.2)\n",
            "Requirement already satisfied: catalogue<2.1.0,>=2.0.6 in /usr/local/lib/python3.7/dist-packages (from spacy) (2.0.8)\n",
            "Requirement already satisfied: jinja2 in /usr/local/lib/python3.7/dist-packages (from spacy) (2.11.3)\n",
            "Requirement already satisfied: murmurhash<1.1.0,>=0.28.0 in /usr/local/lib/python3.7/dist-packages (from spacy) (1.0.9)\n",
            "Requirement already satisfied: preshed<3.1.0,>=3.0.2 in /usr/local/lib/python3.7/dist-packages (from spacy) (3.0.8)\n",
            "Requirement already satisfied: pydantic!=1.8,!=1.8.1,<1.11.0,>=1.7.4 in /usr/local/lib/python3.7/dist-packages (from spacy) (1.10.2)\n",
            "Requirement already satisfied: wasabi<1.1.0,>=0.9.1 in /usr/local/lib/python3.7/dist-packages (from spacy) (0.10.1)\n",
            "Requirement already satisfied: tqdm<5.0.0,>=4.38.0 in /usr/local/lib/python3.7/dist-packages (from spacy) (4.64.1)\n",
            "Requirement already satisfied: pathy>=0.3.5 in /usr/local/lib/python3.7/dist-packages (from spacy) (0.6.2)\n",
            "Requirement already satisfied: cymem<2.1.0,>=2.0.2 in /usr/local/lib/python3.7/dist-packages (from spacy) (2.0.7)\n",
            "Requirement already satisfied: typer<0.5.0,>=0.3.0 in /usr/local/lib/python3.7/dist-packages (from spacy) (0.4.2)\n",
            "Requirement already satisfied: requests<3.0.0,>=2.13.0 in /usr/local/lib/python3.7/dist-packages (from spacy) (2.23.0)\n",
            "Requirement already satisfied: packaging>=20.0 in /usr/local/lib/python3.7/dist-packages (from spacy) (21.3)\n",
            "Requirement already satisfied: langcodes<4.0.0,>=3.2.0 in /usr/local/lib/python3.7/dist-packages (from spacy) (3.3.0)\n",
            "Requirement already satisfied: spacy-loggers<2.0.0,>=1.0.0 in /usr/local/lib/python3.7/dist-packages (from spacy) (1.0.3)\n",
            "Requirement already satisfied: thinc<8.2.0,>=8.1.0 in /usr/local/lib/python3.7/dist-packages (from spacy) (8.1.5)\n",
            "Requirement already satisfied: numpy>=1.15.0 in /usr/local/lib/python3.7/dist-packages (from spacy) (1.21.6)\n",
            "Requirement already satisfied: srsly<3.0.0,>=2.4.3 in /usr/local/lib/python3.7/dist-packages (from spacy) (2.4.5)\n",
            "Requirement already satisfied: setuptools in /usr/local/lib/python3.7/dist-packages (from spacy) (57.4.0)\n",
            "Requirement already satisfied: spacy-legacy<3.1.0,>=3.0.10 in /usr/local/lib/python3.7/dist-packages (from spacy) (3.0.10)\n",
            "Requirement already satisfied: typing-extensions<4.2.0,>=3.7.4 in /usr/local/lib/python3.7/dist-packages (from spacy) (4.1.1)\n",
            "Requirement already satisfied: zipp>=0.5 in /usr/local/lib/python3.7/dist-packages (from catalogue<2.1.0,>=2.0.6->spacy) (3.9.0)\n",
            "Requirement already satisfied: pyparsing!=3.0.5,>=2.0.2 in /usr/local/lib/python3.7/dist-packages (from packaging>=20.0->spacy) (3.0.9)\n",
            "Requirement already satisfied: smart-open<6.0.0,>=5.2.1 in /usr/local/lib/python3.7/dist-packages (from pathy>=0.3.5->spacy) (5.2.1)\n",
            "Requirement already satisfied: chardet<4,>=3.0.2 in /usr/local/lib/python3.7/dist-packages (from requests<3.0.0,>=2.13.0->spacy) (3.0.4)\n",
            "Requirement already satisfied: urllib3!=1.25.0,!=1.25.1,<1.26,>=1.21.1 in /usr/local/lib/python3.7/dist-packages (from requests<3.0.0,>=2.13.0->spacy) (1.24.3)\n",
            "Requirement already satisfied: idna<3,>=2.5 in /usr/local/lib/python3.7/dist-packages (from requests<3.0.0,>=2.13.0->spacy) (2.10)\n",
            "Requirement already satisfied: certifi>=2017.4.17 in /usr/local/lib/python3.7/dist-packages (from requests<3.0.0,>=2.13.0->spacy) (2022.9.24)\n",
            "Requirement already satisfied: confection<1.0.0,>=0.0.1 in /usr/local/lib/python3.7/dist-packages (from thinc<8.2.0,>=8.1.0->spacy) (0.0.3)\n",
            "Requirement already satisfied: blis<0.8.0,>=0.7.8 in /usr/local/lib/python3.7/dist-packages (from thinc<8.2.0,>=8.1.0->spacy) (0.7.9)\n",
            "Requirement already satisfied: click<9.0.0,>=7.1.1 in /usr/local/lib/python3.7/dist-packages (from typer<0.5.0,>=0.3.0->spacy) (7.1.2)\n",
            "Requirement already satisfied: MarkupSafe>=0.23 in /usr/local/lib/python3.7/dist-packages (from jinja2->spacy) (2.0.1)\n",
            "2022-10-25 19:56:22.797074: E tensorflow/stream_executor/cuda/cuda_driver.cc:271] failed call to cuInit: CUDA_ERROR_NO_DEVICE: no CUDA-capable device is detected\n",
            "\u001b[38;5;3m⚠ As of spaCy v3.0, shortcuts like 'es' are deprecated. Please use the\n",
            "full pipeline package name 'es_core_news_sm' instead.\u001b[0m\n",
            "Looking in indexes: https://pypi.org/simple, https://us-python.pkg.dev/colab-wheels/public/simple/\n",
            "Collecting es-core-news-sm==3.4.0\n",
            "  Downloading https://github.com/explosion/spacy-models/releases/download/es_core_news_sm-3.4.0/es_core_news_sm-3.4.0-py3-none-any.whl (12.9 MB)\n",
            "\u001b[K     |████████████████████████████████| 12.9 MB 24.9 MB/s \n",
            "\u001b[?25hRequirement already satisfied: spacy<3.5.0,>=3.4.0 in /usr/local/lib/python3.7/dist-packages (from es-core-news-sm==3.4.0) (3.4.2)\n",
            "Requirement already satisfied: catalogue<2.1.0,>=2.0.6 in /usr/local/lib/python3.7/dist-packages (from spacy<3.5.0,>=3.4.0->es-core-news-sm==3.4.0) (2.0.8)\n",
            "Requirement already satisfied: pydantic!=1.8,!=1.8.1,<1.11.0,>=1.7.4 in /usr/local/lib/python3.7/dist-packages (from spacy<3.5.0,>=3.4.0->es-core-news-sm==3.4.0) (1.10.2)\n",
            "Requirement already satisfied: langcodes<4.0.0,>=3.2.0 in /usr/local/lib/python3.7/dist-packages (from spacy<3.5.0,>=3.4.0->es-core-news-sm==3.4.0) (3.3.0)\n",
            "Requirement already satisfied: preshed<3.1.0,>=3.0.2 in /usr/local/lib/python3.7/dist-packages (from spacy<3.5.0,>=3.4.0->es-core-news-sm==3.4.0) (3.0.8)\n",
            "Requirement already satisfied: spacy-loggers<2.0.0,>=1.0.0 in /usr/local/lib/python3.7/dist-packages (from spacy<3.5.0,>=3.4.0->es-core-news-sm==3.4.0) (1.0.3)\n",
            "Requirement already satisfied: wasabi<1.1.0,>=0.9.1 in /usr/local/lib/python3.7/dist-packages (from spacy<3.5.0,>=3.4.0->es-core-news-sm==3.4.0) (0.10.1)\n",
            "Requirement already satisfied: typing-extensions<4.2.0,>=3.7.4 in /usr/local/lib/python3.7/dist-packages (from spacy<3.5.0,>=3.4.0->es-core-news-sm==3.4.0) (4.1.1)\n",
            "Requirement already satisfied: requests<3.0.0,>=2.13.0 in /usr/local/lib/python3.7/dist-packages (from spacy<3.5.0,>=3.4.0->es-core-news-sm==3.4.0) (2.23.0)\n",
            "Requirement already satisfied: tqdm<5.0.0,>=4.38.0 in /usr/local/lib/python3.7/dist-packages (from spacy<3.5.0,>=3.4.0->es-core-news-sm==3.4.0) (4.64.1)\n",
            "Requirement already satisfied: packaging>=20.0 in /usr/local/lib/python3.7/dist-packages (from spacy<3.5.0,>=3.4.0->es-core-news-sm==3.4.0) (21.3)\n",
            "Requirement already satisfied: numpy>=1.15.0 in /usr/local/lib/python3.7/dist-packages (from spacy<3.5.0,>=3.4.0->es-core-news-sm==3.4.0) (1.21.6)\n",
            "Requirement already satisfied: typer<0.5.0,>=0.3.0 in /usr/local/lib/python3.7/dist-packages (from spacy<3.5.0,>=3.4.0->es-core-news-sm==3.4.0) (0.4.2)\n",
            "Requirement already satisfied: spacy-legacy<3.1.0,>=3.0.10 in /usr/local/lib/python3.7/dist-packages (from spacy<3.5.0,>=3.4.0->es-core-news-sm==3.4.0) (3.0.10)\n",
            "Requirement already satisfied: cymem<2.1.0,>=2.0.2 in /usr/local/lib/python3.7/dist-packages (from spacy<3.5.0,>=3.4.0->es-core-news-sm==3.4.0) (2.0.7)\n",
            "Requirement already satisfied: pathy>=0.3.5 in /usr/local/lib/python3.7/dist-packages (from spacy<3.5.0,>=3.4.0->es-core-news-sm==3.4.0) (0.6.2)\n",
            "Requirement already satisfied: setuptools in /usr/local/lib/python3.7/dist-packages (from spacy<3.5.0,>=3.4.0->es-core-news-sm==3.4.0) (57.4.0)\n",
            "Requirement already satisfied: jinja2 in /usr/local/lib/python3.7/dist-packages (from spacy<3.5.0,>=3.4.0->es-core-news-sm==3.4.0) (2.11.3)\n",
            "Requirement already satisfied: srsly<3.0.0,>=2.4.3 in /usr/local/lib/python3.7/dist-packages (from spacy<3.5.0,>=3.4.0->es-core-news-sm==3.4.0) (2.4.5)\n",
            "Requirement already satisfied: thinc<8.2.0,>=8.1.0 in /usr/local/lib/python3.7/dist-packages (from spacy<3.5.0,>=3.4.0->es-core-news-sm==3.4.0) (8.1.5)\n",
            "Requirement already satisfied: murmurhash<1.1.0,>=0.28.0 in /usr/local/lib/python3.7/dist-packages (from spacy<3.5.0,>=3.4.0->es-core-news-sm==3.4.0) (1.0.9)\n",
            "Requirement already satisfied: zipp>=0.5 in /usr/local/lib/python3.7/dist-packages (from catalogue<2.1.0,>=2.0.6->spacy<3.5.0,>=3.4.0->es-core-news-sm==3.4.0) (3.9.0)\n",
            "Requirement already satisfied: pyparsing!=3.0.5,>=2.0.2 in /usr/local/lib/python3.7/dist-packages (from packaging>=20.0->spacy<3.5.0,>=3.4.0->es-core-news-sm==3.4.0) (3.0.9)\n",
            "Requirement already satisfied: smart-open<6.0.0,>=5.2.1 in /usr/local/lib/python3.7/dist-packages (from pathy>=0.3.5->spacy<3.5.0,>=3.4.0->es-core-news-sm==3.4.0) (5.2.1)\n",
            "Requirement already satisfied: idna<3,>=2.5 in /usr/local/lib/python3.7/dist-packages (from requests<3.0.0,>=2.13.0->spacy<3.5.0,>=3.4.0->es-core-news-sm==3.4.0) (2.10)\n",
            "Requirement already satisfied: chardet<4,>=3.0.2 in /usr/local/lib/python3.7/dist-packages (from requests<3.0.0,>=2.13.0->spacy<3.5.0,>=3.4.0->es-core-news-sm==3.4.0) (3.0.4)\n",
            "Requirement already satisfied: urllib3!=1.25.0,!=1.25.1,<1.26,>=1.21.1 in /usr/local/lib/python3.7/dist-packages (from requests<3.0.0,>=2.13.0->spacy<3.5.0,>=3.4.0->es-core-news-sm==3.4.0) (1.24.3)\n",
            "Requirement already satisfied: certifi>=2017.4.17 in /usr/local/lib/python3.7/dist-packages (from requests<3.0.0,>=2.13.0->spacy<3.5.0,>=3.4.0->es-core-news-sm==3.4.0) (2022.9.24)\n",
            "Requirement already satisfied: blis<0.8.0,>=0.7.8 in /usr/local/lib/python3.7/dist-packages (from thinc<8.2.0,>=8.1.0->spacy<3.5.0,>=3.4.0->es-core-news-sm==3.4.0) (0.7.9)\n",
            "Requirement already satisfied: confection<1.0.0,>=0.0.1 in /usr/local/lib/python3.7/dist-packages (from thinc<8.2.0,>=8.1.0->spacy<3.5.0,>=3.4.0->es-core-news-sm==3.4.0) (0.0.3)\n",
            "Requirement already satisfied: click<9.0.0,>=7.1.1 in /usr/local/lib/python3.7/dist-packages (from typer<0.5.0,>=0.3.0->spacy<3.5.0,>=3.4.0->es-core-news-sm==3.4.0) (7.1.2)\n",
            "Requirement already satisfied: MarkupSafe>=0.23 in /usr/local/lib/python3.7/dist-packages (from jinja2->spacy<3.5.0,>=3.4.0->es-core-news-sm==3.4.0) (2.0.1)\n",
            "Installing collected packages: es-core-news-sm\n",
            "Successfully installed es-core-news-sm-3.4.0\n",
            "\u001b[38;5;2m✔ Download and installation successful\u001b[0m\n",
            "You can now load the package via spacy.load('es_core_news_sm')\n"
          ]
        }
      ]
    },
    {
      "cell_type": "code",
      "source": [
        "def get_list_filenames(list_paths):\n",
        "    list_names = []\n",
        "    divider = \"/\"\n",
        "    if len(list_paths) > 0:\n",
        "        if \"\\\\\" in list_paths[0]:\n",
        "            divider = \"\\\\\"\n",
        "    for file in list_paths:\n",
        "        filename = file.split(divider)[-1]\n",
        "        list_names = list_names + [filename[:-4]]\n",
        "    return list_names"
      ],
      "metadata": {
        "id": "63meK7224rrO"
      },
      "execution_count": null,
      "outputs": []
    },
    {
      "cell_type": "code",
      "source": [
        "\n",
        "from multiprocessing import Pool\n",
        "import os\n",
        "from os import path\n",
        "from glob import glob\n",
        "\n",
        "\n",
        "def find_ext(folder, ext):\n",
        "    return glob(path.join(folder, \"*.{}\".format(ext)))\n",
        "\n",
        "nombres_txt = get_list_filenames(find_ext(\"/content/drive/MyDrive/PDF de las palabras claves/PDF-TEXTOS_LIMPIOS_2\", \"txt\"))\n",
        "print(nombres_txt)"
      ],
      "metadata": {
        "id": "yBYtFoIS4SYS",
        "colab": {
          "base_uri": "https://localhost:8080/"
        },
        "outputId": "ca62b1d7-ac63-44e2-c47d-56c12bbfd251"
      },
      "execution_count": null,
      "outputs": [
        {
          "output_type": "stream",
          "name": "stdout",
          "text": [
            "['130-Texto del artículo-269-1-10-20161119 (1)', 'Salazar_ff (1)', '16115-Texto del artículo-64001-2-10-20170215 (1)', '1150-Texto del artículo-2459-1-10-20171110', '3519-Texto del artículo-10351-1-10-20201229', '14603-Texto del artículo-58054-2-10-20160302', '251-Texto del artículo-5198-1-10-20211219', '380-Texto del artículo-770-1-10-20161123', 'Filosofía y política en el Perú estudio del pensamiento de Víctor Raúl Haya de la Torre, José Carlos Mariátegui, Víctor Andrés Belaunde', 'Anchante_aj', 'Martinez_lm - Resumen', 'FLORES_MP', 'Salazar_ff', 'MONOGRAFÍA - Aucatoma Moscoso, Jorge Luis - FCSyH', '4737-Texto del artículo-15423-1-10-20220203', 'ALVARADO_LUNA_PATRICIO_VIRREY_JOAQUIN', '61-Texto del artículo-829-1-10-20190620', 'Inca Garcilaso de la Vega - Vida e historia', '823-Texto del artículo-2110-1-10-20200330', 'Rosario_pe', 'HIpiesj', 'UNFV_PaucarLimaylla_JosueCentella_Título Profesional_2019', '17017-Texto del artículo-67586-1-10-20170425', '4454-Texto del artículo-14699-2-10-20211227', '1044-Texto del artículo-7692-1-10-20201031', '1136-Texto del artículo-4536-1-10-20200203', '253T20190605_TC', 'Aguila_pa', '9483-Texto del artículo-37505-1-10-20140719', 'DI_FRANCO_OCHOA_CARLA_UN_PALACIO', '16115-Texto del artículo-64001-2-10-20170215', '2138-Texto del artículo-5082-1-10-20190528', 'Pérez_Luyo_Necesidad-nuevas-instituciones', 'TS_CGZE_2019', '2016- 36 Construir instituciones y fortalecer el Estado peruano. SOSA, Paoloa', 'PortocarreroFelipe2010', '14457-Texto del artículo-57519-1-10-20151130', '10035-Texto del artículo-39725-1-10-20140805', 'Vilchez_by', '19727-Texto del artículo-78412-1-10-20180315', '12844-Texto del artículo-51100-1-10-20150529', 'pensamiento político de gonzalez prada', 'SANCHEZ_FLORES_MIGUEL_POP', 'La diversidad cultural en el Perú', '9193-Texto del artículo-36419-1-10-20140612', 'Diversidad Cultural', '21757-Texto del artículo-86012-1-10-20200204', 'ANA0000624', 'CHICMANA_ZAPATA_VICTORIA_DEL_PILAR_MUJERES_INDIGENAS_DE_LA_SELVA', 'Teran_Romero_Aymaras_Huacullani_nociones1', 'REYDECASTRO_ARENA_ALEJANDRO_ELPENSAMIENTO', 'Rivera_cv', '4479-Texto del artículo-14767-2-10-20211228', '2016 Tesis Dawson Barragan Sebastian', '2668-Texto del artículo-6498-1-10-20200109', '993-Texto del artículo-5057-1-10-20220526', 'Fernandez_Cozman_2014', 'Rodriguez_cj', 'LENGUA ORIGINARIA II', '4983-Texto del artículo-19115-1-10-20130314', 'document', '20497-Texto del artículo-81636-2-10-20181214', 'Villegas_tl', 'Los-pueblos-achuar-awajun-kandozi-y-wampis', 'AGENDA indigena (1)', 'TI-GODO LOZANO RUIZ-RENZO MANUEL GARCIA CASTRO- ALVARO ZUBIAURR YACHUACHE', '3528-Texto del artículo-10384-1-10-20201229', 'document (1)', 'Afrodescendientes1', 'Risco_rl - Resumen', '398-Texto del artículo-806-1-10-20161123', '1356-Texto del artículo-2952-1-10-20180512', 'BRAVO_BY', 'TESIS 333 2014', 'HIarcoma', 'Flores_PCG-SD', 'MORON_DONAYRE_JES_SIGNOS', '2653-Texto del artículo-6443-1-10-20200108', '130-Texto del artículo-269-1-10-20161119', '278-Texto del artículo-304-1-10-20191202', '2628-Texto del artículo-6356-2-10-20200108', '62-Texto del artículo-210-1-10-20150901', 'UDEP_Cien años despues_Mónica Junchaya']\n"
          ]
        }
      ]
    },
    {
      "cell_type": "code",
      "execution_count": null,
      "metadata": {
        "id": "Do0cHU2tp5P3",
        "colab": {
          "base_uri": "https://localhost:8080/"
        },
        "outputId": "491f47e4-743d-4ebd-eca9-87dcbe33ea43"
      },
      "outputs": [
        {
          "output_type": "stream",
          "name": "stderr",
          "text": [
            "[nltk_data] Downloading package punkt to /root/nltk_data...\n",
            "[nltk_data]   Unzipping tokenizers/punkt.zip.\n",
            "[nltk_data] Downloading package stopwords to /root/nltk_data...\n",
            "[nltk_data]   Unzipping corpora/stopwords.zip.\n",
            "IOPub data rate exceeded.\n",
            "The notebook server will temporarily stop sending output\n",
            "to the client in order to avoid crashing it.\n",
            "To change this limit, set the config variable\n",
            "`--NotebookApp.iopub_data_rate_limit`.\n",
            "\n",
            "Current values:\n",
            "NotebookApp.iopub_data_rate_limit=1000000.0 (bytes/sec)\n",
            "NotebookApp.rate_limit_window=3.0 (secs)\n",
            "\n"
          ]
        },
        {
          "output_type": "stream",
          "name": "stdout",
          "text": [
            "51378\n",
            "amazoni\n",
            "                                                     aa  aaa  aaaraj  aab  \\\n",
            "3519-Texto del artículo-10351-1-10-20201229   0.000000  0.0     0.0  0.0   \n",
            "14603-Texto del artículo-58054-2-10-20160302  0.000000  0.0     0.0  0.0   \n",
            "251-Texto del artículo-5198-1-10-20211219     0.025265  0.0     0.0  0.0   \n",
            "380-Texto del artículo-770-1-10-20161123      0.000000  0.0     0.0  0.0   \n",
            "30                                             0.000000  0.0     0.0  0.0   \n",
            "...                                                 ...  ...     ...  ...   \n",
            "130-Texto del artículo-269-1-10-20161119      0.000000  0.0     0.0  0.0   \n",
            "62-Texto del artículo-210-1-10-20150901       0.000000  0.0     0.0  0.0   \n",
            "2628-Texto del artículo-6356-2-10-20200108    0.000000  0.0     0.0  0.0   \n",
            "UDEP_Cien años despues_Mónica Junchaya       0.000000  0.0     0.0  0.0   \n",
            "253T20190605_TC                                0.000000  0.0     0.0  0.0   \n",
            "\n",
            "                                               aabb  aabba  aabbbaccc  aadmit  \\\n",
            "3519-Texto del artículo-10351-1-10-20201229    0.0    0.0        0.0     0.0   \n",
            "14603-Texto del artículo-58054-2-10-20160302   0.0    0.0        0.0     0.0   \n",
            "251-Texto del artículo-5198-1-10-20211219      0.0    0.0        0.0     0.0   \n",
            "380-Texto del artículo-770-1-10-20161123       0.0    0.0        0.0     0.0   \n",
            "30                                              0.0    0.0        0.0     0.0   \n",
            "...                                             ...    ...        ...     ...   \n",
            "130-Texto del artículo-269-1-10-20161119       0.0    0.0        0.0     0.0   \n",
            "62-Texto del artículo-210-1-10-20150901        0.0    0.0        0.0     0.0   \n",
            "2628-Texto del artículo-6356-2-10-20200108     0.0    0.0        0.0     0.0   \n",
            "UDEP_Cien años despues_Mónica Junchaya        0.0    0.0        0.0     0.0   \n",
            "253T20190605_TC                                 0.0    0.0        0.0     0.0   \n",
            "\n",
            "                                               aal  aamb  ...  zygmunt  \\\n",
            "3519-Texto del artículo-10351-1-10-20201229   0.0   0.0  ...      0.0   \n",
            "14603-Texto del artículo-58054-2-10-20160302  0.0   0.0  ...      0.0   \n",
            "251-Texto del artículo-5198-1-10-20211219     0.0   0.0  ...      0.0   \n",
            "380-Texto del artículo-770-1-10-20161123      0.0   0.0  ...      0.0   \n",
            "30                                             0.0   0.0  ...      0.0   \n",
            "...                                            ...   ...  ...      ...   \n",
            "130-Texto del artículo-269-1-10-20161119      0.0   0.0  ...      0.0   \n",
            "62-Texto del artículo-210-1-10-20150901       0.0   0.0  ...      0.0   \n",
            "2628-Texto del artículo-6356-2-10-20200108    0.0   0.0  ...      0.0   \n",
            "UDEP_Cien años despues_Mónica Junchaya       0.0   0.0  ...      0.0   \n",
            "253T20190605_TC                                0.0   0.0  ...      0.0   \n",
            "\n",
            "                                               zyiusdlz  zylaezds  zyodgesuuz  \\\n",
            "3519-Texto del artículo-10351-1-10-20201229     0.0000    0.0000      0.0000   \n",
            "14603-Texto del artículo-58054-2-10-20160302    0.0000    0.0000      0.0000   \n",
            "251-Texto del artículo-5198-1-10-20211219       0.0000    0.0000      0.0000   \n",
            "380-Texto del artículo-770-1-10-20161123        0.0000    0.0000      0.0000   \n",
            "30                                               0.0000    0.0000      0.0000   \n",
            "...                                                 ...       ...         ...   \n",
            "130-Texto del artículo-269-1-10-20161119        0.0000    0.0000      0.0000   \n",
            "62-Texto del artículo-210-1-10-20150901         0.0000    0.0000      0.0000   \n",
            "2628-Texto del artículo-6356-2-10-20200108      0.0000    0.0000      0.0000   \n",
            "UDEP_Cien años despues_Mónica Junchaya         0.0000    0.0000      0.0000   \n",
            "253T20190605_TC                                  0.0017    0.0017      0.0017   \n",
            "\n",
            "                                               zyseaeg     zyz        zz  \\\n",
            "3519-Texto del artículo-10351-1-10-20201229    0.0000  0.0000  0.000000   \n",
            "14603-Texto del artículo-58054-2-10-20160302   0.0000  0.0000  0.000000   \n",
            "251-Texto del artículo-5198-1-10-20211219      0.0000  0.0000  0.000000   \n",
            "380-Texto del artículo-770-1-10-20161123       0.0000  0.0000  0.000000   \n",
            "30                                              0.0000  0.0000  0.000000   \n",
            "...                                                ...     ...       ...   \n",
            "130-Texto del artículo-269-1-10-20161119       0.0000  0.0000  0.000000   \n",
            "62-Texto del artículo-210-1-10-20150901        0.0000  0.0000  0.000000   \n",
            "2628-Texto del artículo-6356-2-10-20200108     0.0000  0.0000  0.000000   \n",
            "UDEP_Cien años despues_Mónica Junchaya        0.0000  0.0000  0.000000   \n",
            "253T20190605_TC                                 0.0017  0.0017  0.011899   \n",
            "\n",
            "                                                 zzdalj  zzdesyaezd   zzsnj  \n",
            "3519-Texto del artículo-10351-1-10-20201229   0.000000      0.0000  0.0000  \n",
            "14603-Texto del artículo-58054-2-10-20160302  0.000000      0.0000  0.0000  \n",
            "251-Texto del artículo-5198-1-10-20211219     0.000000      0.0000  0.0000  \n",
            "380-Texto del artículo-770-1-10-20161123      0.000000      0.0000  0.0000  \n",
            "30                                             0.000000      0.0000  0.0000  \n",
            "...                                                 ...         ...     ...  \n",
            "130-Texto del artículo-269-1-10-20161119      0.000000      0.0000  0.0000  \n",
            "62-Texto del artículo-210-1-10-20150901       0.000000      0.0000  0.0000  \n",
            "2628-Texto del artículo-6356-2-10-20200108    0.000000      0.0000  0.0000  \n",
            "UDEP_Cien años despues_Mónica Junchaya       0.000000      0.0000  0.0000  \n",
            "253T20190605_TC                                0.005099      0.0034  0.0017  \n",
            "\n",
            "[86 rows x 51378 columns]\n"
          ]
        }
      ],
      "source": [
        "import numpy as np\n",
        "#corpus=abrir_txt_corpus(\"/content/drive/MyDrive/PDF de las palabras claves/PDF_TEXTOS_LIMPIOS\",\"21757-Texto del artículo-86012-1-10-20200204\")\n",
        "#words_set = set()\n",
        "\n",
        "import string\n",
        "from nltk.corpus import stopwords\n",
        "from sklearn.feature_extraction.text import TfidfVectorizer\n",
        "import pandas as pd\n",
        "from nltk.stem import SnowballStemmer\n",
        "from nltk.stem import *\n",
        "from nltk.stem.porter import *\n",
        "from nltk.tokenize import word_tokenize\n",
        "from nltk.stem import WordNetLemmatizer\n",
        "import spacy\n",
        "nlp = spacy.load('es_core_news_sm')\n",
        "nltk.download('punkt')\n",
        "nltk.download('stopwords')\n",
        "def abrir_txt_corpus(ruta_txt,nombre_txt):\n",
        "  read_txt=ruta_txt+'/'+nombre_txt+\".txt\"\n",
        "  with open(read_txt, \"r\") as fileTK:\n",
        "    corpus = fileTK.read().replace(\"\\n\", \"\") # corpus is all the text in the file\n",
        "    #docs=corpus.splitlines()\n",
        "  return corpus\n",
        "\n",
        "\n",
        "def corpus_txt_limpios(ruta, nombres):\n",
        "  corpus=[]\n",
        "  [corpus.append(abrir_txt_corpus(ruta,n) ) for n in nombres]\n",
        "  print(corpus)\n",
        "  return corpus\n",
        "\n",
        "corpus=corpus_txt_limpios(\"/content/drive/MyDrive/PDF de las palabras claves/PDF_TEXTOS_LIMPIOS\",nombres_txt)\n",
        "#print(len(example_co))\n",
        "\n",
        "def vector_tfidf(corpus,nombres_txt):\n",
        "  stop = stopwords.words('spanish')\n",
        "  tr_idf_model  = TfidfVectorizer(stop_words=stop,\n",
        "    #ngram_range=(2,2), # bigrams\n",
        "    use_idf=True)\n",
        "  tf_idf_vector = tr_idf_model.fit_transform(corpus)\n",
        "  tf_idf_array=tf_idf_vector.toarray()\n",
        "  #print(tf_idf_array)\n",
        "  words_set = tr_idf_model.get_feature_names_out()\n",
        "  print(len(words_set))\n",
        "  #[print(x) for x in words_set]\n",
        "  df_tf_idf = pd.DataFrame(tf_idf_array, columns = words_set,index=nombres_txt)\n",
        "  return df_tf_idf\n",
        "#print(abrir_txt_corpus(\"/content/drive/MyDrive/PDF de las palabras claves/PDF_TEXTOS_LIMPIOS\",\"21757-Texto del artículo-86012-1-10-20200204\"))\n",
        "vector=vector_tfidf(corpus,nombres_txt)\n",
        "#amozonia\n",
        "stemmer = SnowballStemmer('spanish')\n",
        "x_bus=stemmer.stem('amazonia')\n",
        "print(x_bus)\n",
        "print(vector)"
      ]
    },
    {
      "cell_type": "code",
      "source": [
        "\n",
        "numpy_array = vector.to_numpy()\n",
        "\n",
        "x=len(numpy_array[:,0])\n",
        "y=len(numpy_array[:,1])\n",
        "#numpy_array= np.vstack((numpy_array,np.random.multivariate_normal(np.zeros(x),np.eye(x),size=y)))\n",
        "sample_ids = np.random.randint(low=0,high=x,size=(100,))  # getting 100 random points in D as control points\n",
        "control_points = numpy_array[sample_ids,0:2]                           # coordinates of control points\n",
        "control_points = np.hstack((control_points,sample_ids.reshape(-1,1)))  # including ids of original points as the last column of control_points\n",
        "lamp = Lamp(Xdata=numpy_array,control_points=control_points)\n",
        "proj = lamp.fit()\n",
        "plt.scatter(proj[:,0],proj[:,1])\n",
        "plt.scatter(control_points[:,0],control_points[:,1],c='r',s=2)\n",
        "plt.show()\n",
        "\n"
      ],
      "metadata": {
        "colab": {
          "base_uri": "https://localhost:8080/",
          "height": 334
        },
        "id": "_I3vNMvQvwni",
        "outputId": "ba2ed4f5-ebf4-4c25-dacb-f3855124f60a"
      },
      "execution_count": null,
      "outputs": [
        {
          "output_type": "stream",
          "name": "stdout",
          "text": [
            "<class 'numpy.ndarray'>\n",
            "center Xdata \n",
            "center Xdata \n",
            " fit funciont \n"
          ]
        },
        {
          "output_type": "display_data",
          "data": {
            "text/plain": [
              "<Figure size 432x288 with 1 Axes>"
            ],
            "image/png": "[encoded data removed]"
          },
          "metadata": {
            "needs_background": "light"
          }
        }
      ]
    },
    {
      "cell_type": "code",
      "source": [
        "##### using Lamp\n",
        "ts = time()\n",
        "lamp_proj = Lamp(Xdata = numpy_array, label=False)\n",
        "data_proj = lamp_proj.fit()\n",
        "print('Took {}s'.format(time() - ts))\n",
        "\n",
        "plt.scatter(data_proj[:,0],data_proj[:,1])\n",
        "#plt.scatter(data_proj[:,0],data_proj[:,1],c=data[:,-1])\n",
        "plt.show()"
      ],
      "metadata": {
        "colab": {
          "base_uri": "https://localhost:8080/",
          "height": 334
        },
        "id": "C1beNloPzua5",
        "outputId": "0037906f-a349-4123-ad7c-57090bddd8b2"
      },
      "execution_count": null,
      "outputs": [
        {
          "output_type": "stream",
          "name": "stdout",
          "text": [
            "<class 'numpy.ndarray'>\n",
            "center Xdata \n",
            " fit funciont \n",
            "Took 2.4556775093078613s\n"
          ]
        },
        {
          "output_type": "display_data",
          "data": {
            "text/plain": [
              "<Figure size 432x288 with 1 Axes>"
            ],
            "image/png": "[encoded data removed]"
          },
          "metadata": {
            "needs_background": "light"
          }
        }
      ]
    },
    {
      "cell_type": "code",
      "source": [
        "def get_relevant_documents(vector_tf_idf, keywords, stemmer=None):\n",
        "    list_keywords = keywords.split(\" \")\n",
        "    selected_documents = pd.DataFrame()\n",
        "\n",
        "    if stemmer is not None:\n",
        "        for i in range(0, len(list_keywords)):\n",
        "            list_keywords[i] = stemmer.stem(list_keywords[i])\n",
        "    list_keywords = list(dict.fromkeys(list_keywords))\n",
        "    print(list_keywords)\n",
        "    list_keywords = [ word for word in list_keywords if word in vector_tf_idf.columns ]\n",
        "    print(list_keywords)\n",
        "    if len(list_keywords) > 0:\n",
        "        selected_documents = vector_tf_idf[list_keywords]\n",
        "        for word in list_keywords:\n",
        "            selected_documents = selected_documents.loc[selected_documents[word] > 0]\n",
        "        #tmp = tmp.sort_values(by=[list_keywords[0]], ascending=False)\n",
        "        #print(selected_documents)\n",
        "    return list(selected_documents.index.values), selected_documents\n"
      ],
      "metadata": {
        "id": "M1ySvYiaahrC"
      },
      "execution_count": null,
      "outputs": []
    },
    {
      "cell_type": "code",
      "source": [
        "lista,matriz=get_relevant_documents(vector, \"incas\",SnowballStemmer(\"spanish\"))\n",
        "print(matriz)"
      ],
      "metadata": {
        "id": "fTG64IhnqpIk",
        "colab": {
          "base_uri": "https://localhost:8080/"
        },
        "outputId": "e929bf9b-e1ac-411f-f348-055ffdf0c339"
      },
      "execution_count": null,
      "outputs": [
        {
          "output_type": "stream",
          "name": "stdout",
          "text": [
            "['incas']\n",
            "['incas']\n",
            "                                                       incas\n",
            "251-Texto del artículo-5198-1-10-20211219          0.005325\n",
            "Salazar_ff                                          0.206392\n",
            "Salazar_ff (1)                                      0.206392\n",
            "MONOGRAFÍA - Aucatoma Moscoso, Jorge Luis - FCSyH  0.002051\n",
            "4737-Texto del artículo-15423-1-10-20220203        0.206309\n",
            "Rosario_pe                                          0.002472\n",
            "UNFV_PaucarLimaylla_JosueCentella_Título Profe...  0.000897\n",
            "823-Texto del artículo-2110-1-10-20200330          0.040347\n",
            "Anchante_aj                                         0.009071\n",
            "DI_FRANCO_OCHOA_CARLA_UN_PALACIO                    0.037223\n",
            "2138-Texto del artículo-5082-1-10-20190528         0.007522\n",
            "Aguila_pa                                           0.000637\n",
            "Rodriguez_cj                                        0.006279\n",
            "pensamiento político de gonzalez prada             0.001977\n",
            "REYDECASTRO_ARENA_ALEJANDRO_ELPENSAMIENTO           0.006495\n",
            "Rivera_cv                                           0.005026\n",
            "2016 Tesis Dawson Barragan Sebastian                0.001995\n",
            "4479-Texto del artículo-14767-2-10-20211228        0.011668\n",
            "SANCHEZ_FLORES_MIGUEL_POP                           0.001972\n",
            "Teran_Romero_Aymaras_Huacullani_nociones1           0.002515\n",
            "20497-Texto del artículo-81636-2-10-20181214       0.011588\n",
            "Villegas_tl                                         0.006947\n",
            "document                                            0.005025\n",
            "document (1)                                        0.097325\n",
            "Los-pueblos-achuar-awajun-kandozi-y-wampis          0.002124\n",
            "1356-Texto del artículo-2952-1-10-20180512         0.012292\n",
            "MORON_DONAYRE_JES_SIGNOS                            0.003421\n",
            "2653-Texto del artículo-6443-1-10-20200108         0.007891\n",
            "2628-Texto del artículo-6356-2-10-20200108         0.011548\n",
            "253T20190605_TC                                     0.005066\n"
          ]
        }
      ]
    },
    {
      "cell_type": "code",
      "source": [
        "def short_filenames(array_names):\n",
        "  array_shortnames=[]\n",
        "  for i in array_names:\n",
        "    c=len(i)-2\n",
        "    if(len(i)<=4):\n",
        "       array_shortnames.append(i[:3])\n",
        "    else:\n",
        "      array_shortnames.append(i[:3]+i[c:])\n",
        "  return array_shortnames\n"
      ],
      "metadata": {
        "id": "WDkGqO2SvjLJ"
      },
      "execution_count": null,
      "outputs": []
    },
    {
      "cell_type": "code",
      "source": [
        "##### using Lamp\n",
        "\n",
        "numpy_array_relevant=matriz.to_numpy()\n",
        "data_top_matriz = matriz.head()\n",
        "print(matriz.head().index.to_numpy())\n",
        "# list(data_top) or\n",
        "annotations=[\"251\",\"salz\",\"salz1\",\"aucatoma\",\"4737\",\"rosario\",\"unfv\",\"823\",\"anch\",\"difr\",\"2138\",\"agul\",\"rod\",\"gz-p\",\n",
        "             \"cast-arena\",\"riv\",\"2016\",\"4479\",\"sch-fz\",\"teran\",\"20497\",\"vill\",\"doc\",\"doc1\",\"achuar\",\"1356\",\"moron\",\"2653\",\"2628\",\"2tc\"]\n",
        "ts = time()\n",
        "print(short_filenames(annotations))"
      ],
      "metadata": {
        "colab": {
          "base_uri": "https://localhost:8080/"
        },
        "id": "DSTYzgKWxfFy",
        "outputId": "c545c4f5-6945-4e4f-b07e-2d6934a9d540"
      },
      "execution_count": null,
      "outputs": [
        {
          "output_type": "stream",
          "name": "stdout",
          "text": [
            "['251-Texto del artículo-5198-1-10-20211219' 'Salazar_ff'\n",
            " 'Salazar_ff (1)' 'MONOGRAFÍA - Aucatoma Moscoso, Jorge Luis - FCSyH'\n",
            " '4737-Texto del artículo-15423-1-10-20220203']\n",
            "['251', 'sal', 'salz1', 'aucma', '473', 'rosio', 'unf', '823', 'anc', 'dif', '213', 'agu', 'rod', 'gz-', 'casna', 'riv', '201', '447', 'schfz', 'teran', '20497', 'vil', 'doc', 'doc', 'achar', '135', 'moron', '265', '262', '2tc']\n"
          ]
        }
      ]
    },
    {
      "cell_type": "code",
      "source": [
        "\n",
        "lamp_proj = Lamp(Xdata = numpy_array_relevant)\n",
        "data_proj = lamp_proj.fit()\n",
        "#graficar con nombres para cada punto, nombre del documento para cada punto\n",
        "x=data_proj[:,0]\n",
        "y=data_proj[:,1]\n",
        "plt.figure(figsize=(15,12))\n",
        "plt.scatter(x,y)\n",
        "for i, label in enumerate(annotations):\n",
        "    plt.annotate(label, (x[i], y[i]))\n",
        "print(numpy_array_relevant[:,-1])\n",
        "#salida un arreglo de nombres cortos, y completos, y los puntos proyeccion\n",
        "# nombre dos primeros y dos ultimos caracteres\n",
        "\n",
        "plt.scatter(data_proj[:,0],data_proj[:,1],c=numpy_array_relevant[:,-1])\n",
        "plt.show()\n",
        "# por 1000"
      ],
      "metadata": {
        "colab": {
          "base_uri": "https://localhost:8080/",
          "height": 839
        },
        "id": "zK72-0Mk_P4E",
        "outputId": "42d8dd75-d0ee-461d-95d8-c6c1a27c6463"
      },
      "execution_count": null,
      "outputs": [
        {
          "output_type": "stream",
          "name": "stdout",
          "text": [
            "<class 'numpy.ndarray'>\n",
            "center Xdata \n",
            " fit funciont \n",
            "[0.00532467 0.20639184 0.20639184 0.00205118 0.20630879 0.00247176\n",
            " 0.00089675 0.04034681 0.00907061 0.03722267 0.00752199 0.00063749\n",
            " 0.00627937 0.00197715 0.00649471 0.00502603 0.00199531 0.01166826\n",
            " 0.00197177 0.00251513 0.01158767 0.0069466  0.00502476 0.09732472\n",
            " 0.00212449 0.01229189 0.00342058 0.00789103 0.01154796 0.00506559]\n"
          ]
        },
        {
          "output_type": "display_data",
          "data": {
            "text/plain": [
              "<Figure size 1080x864 with 1 Axes>"
            ],
            "image/png": "[encoded data removed]"
          },
          "metadata": {
            "needs_background": "light"
          }
        }
      ]
    },
    {
      "cell_type": "code",
      "source": [
        "!pip install seaborn"
      ],
      "metadata": {
        "colab": {
          "base_uri": "https://localhost:8080/"
        },
        "id": "C1DEKLJ38u2e",
        "outputId": "4ff5dd91-2d45-422c-94fa-8d51d9a1cc2e"
      },
      "execution_count": null,
      "outputs": [
        {
          "output_type": "stream",
          "name": "stdout",
          "text": [
            "Looking in indexes: https://pypi.org/simple, https://us-python.pkg.dev/colab-wheels/public/simple/\n",
            "Requirement already satisfied: seaborn in /usr/local/lib/python3.7/dist-packages (0.11.2)\n",
            "Requirement already satisfied: matplotlib>=2.2 in /usr/local/lib/python3.7/dist-packages (from seaborn) (3.2.2)\n",
            "Requirement already satisfied: scipy>=1.0 in /usr/local/lib/python3.7/dist-packages (from seaborn) (1.7.3)\n",
            "Requirement already satisfied: numpy>=1.15 in /usr/local/lib/python3.7/dist-packages (from seaborn) (1.21.6)\n",
            "Requirement already satisfied: pandas>=0.23 in /usr/local/lib/python3.7/dist-packages (from seaborn) (1.3.5)\n",
            "Requirement already satisfied: python-dateutil>=2.1 in /usr/local/lib/python3.7/dist-packages (from matplotlib>=2.2->seaborn) (2.8.2)\n",
            "Requirement already satisfied: cycler>=0.10 in /usr/local/lib/python3.7/dist-packages (from matplotlib>=2.2->seaborn) (0.11.0)\n",
            "Requirement already satisfied: pyparsing!=2.0.4,!=2.1.2,!=2.1.6,>=2.0.1 in /usr/local/lib/python3.7/dist-packages (from matplotlib>=2.2->seaborn) (3.0.9)\n",
            "Requirement already satisfied: kiwisolver>=1.0.1 in /usr/local/lib/python3.7/dist-packages (from matplotlib>=2.2->seaborn) (1.4.4)\n",
            "Requirement already satisfied: typing-extensions in /usr/local/lib/python3.7/dist-packages (from kiwisolver>=1.0.1->matplotlib>=2.2->seaborn) (4.1.1)\n",
            "Requirement already satisfied: pytz>=2017.3 in /usr/local/lib/python3.7/dist-packages (from pandas>=0.23->seaborn) (2022.4)\n",
            "Requirement already satisfied: six>=1.5 in /usr/local/lib/python3.7/dist-packages (from python-dateutil>=2.1->matplotlib>=2.2->seaborn) (1.15.0)\n"
          ]
        }
      ]
    },
    {
      "cell_type": "code",
      "source": [
        "import seaborn as sns\n"
      ],
      "metadata": {
        "id": "ZYaHSBN0-MDj"
      },
      "execution_count": null,
      "outputs": []
    }
  ],
  "metadata": {
    "colab": {
      "provenance": []
    },
    "kernelspec": {
      "display_name": "Python 3",
      "name": "python3"
    },
    "language_info": {
      "name": "python"
    }
  },
  "nbformat": 4,
  "nbformat_minor": 0
}